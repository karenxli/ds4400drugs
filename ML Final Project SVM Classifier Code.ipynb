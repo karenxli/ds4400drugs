{
 "cells": [
  {
   "cell_type": "code",
   "execution_count": 70,
   "id": "915b1812",
   "metadata": {},
   "outputs": [],
   "source": [
    "import statsmodels.api as sm\n",
    "import scipy.io\n",
    "import numpy as np\n",
    "import matplotlib.pyplot as plt\n",
    "import seaborn as sns\n",
    "import pandas as pd\n",
    "from sklearn.svm import SVC\n",
    "from sklearn.model_selection import train_test_split\n",
    "from sklearn.metrics import classification_report"
   ]
  },
  {
   "cell_type": "markdown",
   "id": "c899aac6",
   "metadata": {},
   "source": [
    "# Loading/Cleaning Data"
   ]
  },
  {
   "cell_type": "code",
   "execution_count": 5,
   "id": "5808f2d1",
   "metadata": {},
   "outputs": [
    {
     "data": {
      "text/html": [
       "<div>\n",
       "<style scoped>\n",
       "    .dataframe tbody tr th:only-of-type {\n",
       "        vertical-align: middle;\n",
       "    }\n",
       "\n",
       "    .dataframe tbody tr th {\n",
       "        vertical-align: top;\n",
       "    }\n",
       "\n",
       "    .dataframe thead th {\n",
       "        text-align: right;\n",
       "    }\n",
       "</style>\n",
       "<table border=\"1\" class=\"dataframe\">\n",
       "  <thead>\n",
       "    <tr style=\"text-align: right;\">\n",
       "      <th></th>\n",
       "      <th>Age</th>\n",
       "      <th>Gender</th>\n",
       "      <th>Education</th>\n",
       "      <th>Country</th>\n",
       "      <th>Ethnicity</th>\n",
       "      <th>Nscore</th>\n",
       "      <th>Escore</th>\n",
       "      <th>Oscore</th>\n",
       "      <th>Ascore</th>\n",
       "      <th>Cscore</th>\n",
       "      <th>Impulsive</th>\n",
       "      <th>Amphet</th>\n",
       "    </tr>\n",
       "  </thead>\n",
       "  <tbody>\n",
       "    <tr>\n",
       "      <th>0</th>\n",
       "      <td>0.49788</td>\n",
       "      <td>0.48246</td>\n",
       "      <td>-0.05921</td>\n",
       "      <td>0.96082</td>\n",
       "      <td>0.12600</td>\n",
       "      <td>0.31287</td>\n",
       "      <td>-0.57545</td>\n",
       "      <td>-0.58331</td>\n",
       "      <td>-0.91699</td>\n",
       "      <td>-0.00665</td>\n",
       "      <td>-0.21712</td>\n",
       "      <td>CL2</td>\n",
       "    </tr>\n",
       "    <tr>\n",
       "      <th>1</th>\n",
       "      <td>-0.07854</td>\n",
       "      <td>-0.48246</td>\n",
       "      <td>1.98437</td>\n",
       "      <td>0.96082</td>\n",
       "      <td>-0.31685</td>\n",
       "      <td>-0.67825</td>\n",
       "      <td>1.93886</td>\n",
       "      <td>1.43533</td>\n",
       "      <td>0.76096</td>\n",
       "      <td>-0.14277</td>\n",
       "      <td>-0.71126</td>\n",
       "      <td>CL2</td>\n",
       "    </tr>\n",
       "    <tr>\n",
       "      <th>2</th>\n",
       "      <td>0.49788</td>\n",
       "      <td>-0.48246</td>\n",
       "      <td>-0.05921</td>\n",
       "      <td>0.96082</td>\n",
       "      <td>-0.31685</td>\n",
       "      <td>-0.46725</td>\n",
       "      <td>0.80523</td>\n",
       "      <td>-0.84732</td>\n",
       "      <td>-1.62090</td>\n",
       "      <td>-1.01450</td>\n",
       "      <td>-1.37983</td>\n",
       "      <td>CL0</td>\n",
       "    </tr>\n",
       "    <tr>\n",
       "      <th>3</th>\n",
       "      <td>-0.95197</td>\n",
       "      <td>0.48246</td>\n",
       "      <td>1.16365</td>\n",
       "      <td>0.96082</td>\n",
       "      <td>-0.31685</td>\n",
       "      <td>-0.14882</td>\n",
       "      <td>-0.80615</td>\n",
       "      <td>-0.01928</td>\n",
       "      <td>0.59042</td>\n",
       "      <td>0.58489</td>\n",
       "      <td>-1.37983</td>\n",
       "      <td>CL0</td>\n",
       "    </tr>\n",
       "    <tr>\n",
       "      <th>4</th>\n",
       "      <td>0.49788</td>\n",
       "      <td>0.48246</td>\n",
       "      <td>1.98437</td>\n",
       "      <td>0.96082</td>\n",
       "      <td>-0.31685</td>\n",
       "      <td>0.73545</td>\n",
       "      <td>-1.63340</td>\n",
       "      <td>-0.45174</td>\n",
       "      <td>-0.30172</td>\n",
       "      <td>1.30612</td>\n",
       "      <td>-0.21712</td>\n",
       "      <td>CL1</td>\n",
       "    </tr>\n",
       "  </tbody>\n",
       "</table>\n",
       "</div>"
      ],
      "text/plain": [
       "       Age   Gender  Education  Country  Ethnicity   Nscore   Escore   Oscore  \\\n",
       "0  0.49788  0.48246   -0.05921  0.96082    0.12600  0.31287 -0.57545 -0.58331   \n",
       "1 -0.07854 -0.48246    1.98437  0.96082   -0.31685 -0.67825  1.93886  1.43533   \n",
       "2  0.49788 -0.48246   -0.05921  0.96082   -0.31685 -0.46725  0.80523 -0.84732   \n",
       "3 -0.95197  0.48246    1.16365  0.96082   -0.31685 -0.14882 -0.80615 -0.01928   \n",
       "4  0.49788  0.48246    1.98437  0.96082   -0.31685  0.73545 -1.63340 -0.45174   \n",
       "\n",
       "    Ascore   Cscore  Impulsive Amphet  \n",
       "0 -0.91699 -0.00665   -0.21712    CL2  \n",
       "1  0.76096 -0.14277   -0.71126    CL2  \n",
       "2 -1.62090 -1.01450   -1.37983    CL0  \n",
       "3  0.59042  0.58489   -1.37983    CL0  \n",
       "4 -0.30172  1.30612   -0.21712    CL1  "
      ]
     },
     "execution_count": 5,
     "metadata": {},
     "output_type": "execute_result"
    }
   ],
   "source": [
    "data = pd.read_csv(r'drugs.csv')\n",
    "data.head()"
   ]
  },
  {
   "cell_type": "code",
   "execution_count": 6,
   "id": "53708513",
   "metadata": {},
   "outputs": [],
   "source": [
    "cols = []\n",
    "featured = data.iloc[:, data.columns != 'Amphet']\n",
    "for column in featured:\n",
    "    cols.append(column)\n",
    "label = 'Amphet'\n",
    "\n",
    "data['Amphet'] = data['Amphet'].map({'CL0': 0, \n",
    "                                     'CL1': 0, \n",
    "                                     'CL2': 1, \n",
    "                                     'CL3': 1, \n",
    "                                     'CL4': 1, \n",
    "                                     'CL5': 1,\n",
    "                                     'CL6': 1})\n",
    "X = data[cols]\n",
    "y = data[label]"
   ]
  },
  {
   "cell_type": "markdown",
   "id": "81f3d017",
   "metadata": {},
   "source": [
    "### Filtering out input variables with the least significant impact on meth use"
   ]
  },
  {
   "cell_type": "code",
   "execution_count": 7,
   "id": "60ec69a1",
   "metadata": {},
   "outputs": [
    {
     "name": "stdout",
     "output_type": "stream",
     "text": [
      "Optimization terminated successfully.\n",
      "         Current function value: 0.534957\n",
      "         Iterations 6\n"
     ]
    }
   ],
   "source": [
    "logit_model=sm.Logit(y,X)               # runs the model\n",
    "result=logit_model.fit()\n",
    "results_summary = result.summary2()"
   ]
  },
  {
   "cell_type": "code",
   "execution_count": 8,
   "id": "0c915f85",
   "metadata": {},
   "outputs": [
    {
     "name": "stdout",
     "output_type": "stream",
     "text": [
      "{'Age': 7.266884157938046e-11, 'Gender': 6.687757332475755e-08, 'Education': 0.04432779272147318, 'Country': 1.2928650250907023e-14, 'Ethnicity': 4.1609051405562617e-13, 'Oscore': 0.006157688036376886, 'Cscore': 0.01445978954950491, 'Impulsive': 1.2177204749193962e-05}\n"
     ]
    }
   ],
   "source": [
    "p_values_tables = results_summary.tables[1]['P>|z|'].tolist()\n",
    "\n",
    "p_values = {}                   # dictionary of the p_values\n",
    "for i in range(0, len(p_values_tables)):\n",
    "    p_values[results_summary.tables[1]['P>|z|'].index[i]] = p_values_tables[i]\n",
    "    #p_values[i]# p_values_tables[i]\n",
    "\n",
    "p_values_tailored = {}          # dictionary of all p_values under 0.05, ie the ones that are statistically significant\n",
    "for i in range(0, len(p_values_tables)):\n",
    "    if(list(p_values.values())[i] < 0.05):\n",
    "        p_values_tailored[results_summary.tables[1]['P>|z|'].index[i]] = list(p_values.values())[i]\n",
    "print(p_values_tailored)"
   ]
  },
  {
   "cell_type": "code",
   "execution_count": 9,
   "id": "fd2db787",
   "metadata": {},
   "outputs": [],
   "source": [
    "def pruneDataset(dataset, selectedFeatures):\n",
    "    features = dataset.filter(regex='|'.join(selectedFeatures))\n",
    "    \n",
    "    return features\n",
    "\n",
    "newX = pruneDataset(featured, p_values_tailored.keys())"
   ]
  },
  {
   "cell_type": "markdown",
   "id": "9f10e439",
   "metadata": {},
   "source": [
    "# SVM Model"
   ]
  },
  {
   "cell_type": "code",
   "execution_count": 11,
   "id": "ce62411a",
   "metadata": {},
   "outputs": [],
   "source": [
    "def classification_accuracy(model, x_train, y_train, x_test, y_test):\n",
    "    y_pred_train = model.predict(x_train)\n",
    "    y_pred_test = model.predict(x_test)\n",
    "\n",
    "    train_error = np.sum(y_pred_train != y_train) / (1.0 * x_train.shape[0])\n",
    "    test_error = np.sum(y_pred_test != y_test) / (1.0 * x_test.shape[0])\n",
    "    return 1-train_error, 1-test_error, y_pred_train, y_pred_test"
   ]
  },
  {
   "cell_type": "code",
   "execution_count": 12,
   "id": "3a9d90fc",
   "metadata": {},
   "outputs": [],
   "source": [
    "def run_SVM(X_train, y_train, X_test, y_test, kernel='linear', penalty=0):\n",
    "    svm = SVC(kernel=kernel, C=penalty).fit(X_train, y_train)\n",
    "\n",
    "    train_acc, test_acc, _, y_pred_test \\\n",
    "    = classification_accuracy(svm, X_train, y_train, X_test, y_test)\n",
    "\n",
    "    return svm, train_acc, test_acc, y_pred_test"
   ]
  },
  {
   "cell_type": "markdown",
   "id": "8c717aac",
   "metadata": {},
   "source": [
    "### Tuning Margin-Softness Hyperparam"
   ]
  },
  {
   "cell_type": "code",
   "execution_count": 62,
   "id": "ba7e4b5a",
   "metadata": {},
   "outputs": [],
   "source": [
    "TRIALS = 30\n",
    "accs_end=[0 for i in range(int(((60-5)/3)+1))]\n",
    "\n",
    "for trial in range(TRIALS):\n",
    "    X_train, X_test, y_train, y_test = train_test_split(X, y, test_size=0.2)\n",
    "    rbf_accs = []\n",
    "    penalties = []\n",
    "    \n",
    "    for penalty in range(5,60,3):\n",
    "\n",
    "        penalties.append((penalty/10))\n",
    "\n",
    "        svm, train_acc, test_acc, y_pred_test \\\n",
    "            = run_SVM(X_train, y_train, X_test, y_test, kernel='rbf', penalty=(penalty/10))\n",
    "\n",
    "        rbf_accs.append(test_acc)\n",
    "\n",
    "    accs_end=[(accs_end[i] + rbf_accs[i]) for i in range(len(rbf_accs))]\n",
    "\n",
    "accs_end=[(accs_end[i]/TRIALS) for i in range(len(accs_end))] "
   ]
  },
  {
   "cell_type": "code",
   "execution_count": 73,
   "id": "57922dd6",
   "metadata": {},
   "outputs": [
    {
     "data": {
      "text/plain": [
       "[<matplotlib.lines.Line2D at 0x1c2fef305e0>]"
      ]
     },
     "execution_count": 73,
     "metadata": {},
     "output_type": "execute_result"
    },
    {
     "data": {
      "image/png": "[encoded data removed]",
      "text/plain": [
       "<Figure size 432x288 with 1 Axes>"
      ]
     },
     "metadata": {
      "needs_background": "light"
     },
     "output_type": "display_data"
    }
   ],
   "source": [
    "max_find = list(zip(penalties,accs_end))\n",
    "\n",
    "tuned_C = 0\n",
    "\n",
    "for i in max_find:\n",
    "    if i[1] == max(accs_end):\n",
    "        tuned_C = i[0]\n",
    "\n",
    "plt.plot(penalties,accs_end)"
   ]
  },
  {
   "cell_type": "code",
   "execution_count": 74,
   "id": "9dcd15c1",
   "metadata": {},
   "outputs": [
    {
     "name": "stdout",
     "output_type": "stream",
     "text": [
      "              precision    recall  f1-score   support\n",
      "\n",
      "           0       0.82      0.79      0.81       257\n",
      "           1       0.59      0.63      0.61       120\n",
      "\n",
      "    accuracy                           0.74       377\n",
      "   macro avg       0.71      0.71      0.71       377\n",
      "weighted avg       0.75      0.74      0.75       377\n",
      "\n"
     ]
    }
   ],
   "source": [
    "X_train, X_test, y_train, y_test = train_test_split(X, y, test_size=0.2)\n",
    "\n",
    "svm, train_acc, test_acc, y_pred_test \\\n",
    "            = run_SVM(X_train, y_train, X_test, y_test, kernel='rbf', penalty=tuned_C)\n",
    "\n",
    "y_true = np.array(y_test)\n",
    "print(classification_report(y_true, y_pred_test))"
   ]
  },
  {
   "cell_type": "code",
   "execution_count": null,
   "id": "4c62d4e5",
   "metadata": {},
   "outputs": [],
   "source": []
  }
 ],
 "metadata": {
  "kernelspec": {
   "display_name": "Python 3 (ipykernel)",
   "language": "python",
   "name": "python3"
  },
  "language_info": {
   "codemirror_mode": {
    "name": "ipython",
    "version": 3
   },
   "file_extension": ".py",
   "mimetype": "text/x-python",
   "name": "python",
   "nbconvert_exporter": "python",
   "pygments_lexer": "ipython3",
   "version": "3.9.7"
  }
 },
 "nbformat": 4,
 "nbformat_minor": 5
}
