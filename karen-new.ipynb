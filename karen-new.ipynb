{
 "cells": [
  {
   "cell_type": "code",
   "execution_count": 31,
   "metadata": {},
   "outputs": [],
   "source": [
    "#Imports\n",
    "\n",
    "import sklearn as sk\n",
    "from sklearn.linear_model import LogisticRegression\n",
    "from sklearn.model_selection import train_test_split\n",
    "import matplotlib.pyplot as plt\n",
    "import pandas as pd\n",
    "import seaborn as sn\n",
    "import numpy as np\n",
    "import itertools\n",
    "from sklearn.metrics import classification_report\n",
    "import statsmodels.api as sm\n",
    "\n",
    "# jesse. jesse we have to train. "
   ]
  },
  {
   "cell_type": "code",
   "execution_count": 32,
   "metadata": {},
   "outputs": [],
   "source": [
    "full_drugs = pd.read_csv(r'full_drug_dataset.csv')"
   ]
  },
  {
   "cell_type": "code",
   "execution_count": 33,
   "metadata": {},
   "outputs": [],
   "source": [
    "cols = []\n",
    "featured = full_drugs.iloc[:, full_drugs.columns != 'Amphet']\n",
    "for column in featured:\n",
    "    cols.append(column)\n",
    "label = 'Amphet'\n",
    "\n",
    "full_drugs['Amphet'] = full_drugs['Amphet'].map({'CL0': 0, \n",
    "                                            'CL1': 0, \n",
    "                                            'CL2': 1, \n",
    "                                            'CL3': 1, \n",
    "                                            'CL4': 1, \n",
    "                                            'CL5': 1,\n",
    "                                            'CL6': 1})\n",
    "X = full_drugs[cols]\n",
    "y = full_drugs[label]\n"
   ]
  },
  {
   "cell_type": "code",
   "execution_count": 34,
   "metadata": {},
   "outputs": [
    {
     "name": "stdout",
     "output_type": "stream",
     "text": [
      "Optimization terminated successfully.\n",
      "         Current function value: 0.534957\n",
      "         Iterations 6\n"
     ]
    }
   ],
   "source": [
    "logit_model=sm.Logit(y,X)               # runs the model\n",
    "result=logit_model.fit()\n",
    "results_summary = result.summary2()\n",
    "\n",
    "#print(p_values_tailored)\n"
   ]
  },
  {
   "cell_type": "code",
   "execution_count": 35,
   "metadata": {},
   "outputs": [],
   "source": [
    "p_values_tables = results_summary.tables[1]['P>|z|'].tolist()\n",
    "\n",
    "p_values = {}                   # dictionary of the p_values\n",
    "for i in range(0, len(p_values_tables)):\n",
    "    p_values[results_summary.tables[1]['P>|z|'].index[i]] = p_values_tables[i]\n",
    "    #p_values[i]# p_values_tables[i]\n",
    "\n",
    "p_values_tailored = {}          # dictionary of all p_values under 0.05, ie the ones that are statistically significant\n",
    "for i in range(0, len(p_values_tables)):\n",
    "    if(list(p_values.values())[i] < 0.05):\n",
    "        p_values_tailored[results_summary.tables[1]['P>|z|'].index[i]] = list(p_values.values())[i]"
   ]
  },
  {
   "cell_type": "code",
   "execution_count": null,
   "metadata": {},
   "outputs": [],
   "source": []
  }
 ],
 "metadata": {
  "kernelspec": {
   "display_name": "Python 3.8.8 ('base')",
   "language": "python",
   "name": "python3"
  },
  "language_info": {
   "codemirror_mode": {
    "name": "ipython",
    "version": 3
   },
   "file_extension": ".py",
   "mimetype": "text/x-python",
   "name": "python",
   "nbconvert_exporter": "python",
   "pygments_lexer": "ipython3",
   "version": "3.8.8"
  },
  "orig_nbformat": 4,
  "vscode": {
   "interpreter": {
    "hash": "3343e3cce2d81aef72acc14e2613b8ef1337ef34e3b9ec67805125f10cb40331"
   }
  }
 },
 "nbformat": 4,
 "nbformat_minor": 2
}
