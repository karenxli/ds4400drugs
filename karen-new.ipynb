{
 "cells": [
  {
   "cell_type": "code",
   "execution_count": 42,
   "metadata": {},
   "outputs": [],
   "source": [
    "#Imports\n",
    "\n",
    "from sklearn.linear_model import LogisticRegression\n",
    "from sklearn.model_selection import train_test_split\n",
    "import matplotlib.pyplot as plt\n",
    "import pandas as pd\n",
    "\n",
    "from sklearn.metrics import classification_report\n",
    "import statsmodels.api as sm\n",
    "from sklearn.metrics import roc_auc_score\n",
    "from sklearn.metrics import roc_curve\n",
    "\n",
    "# jesse. jesse we have to train. "
   ]
  },
  {
   "cell_type": "code",
   "execution_count": 32,
   "metadata": {},
   "outputs": [],
   "source": [
    "full_drugs = pd.read_csv(r'full_drug_dataset.csv')"
   ]
  },
  {
   "cell_type": "code",
   "execution_count": 33,
   "metadata": {},
   "outputs": [],
   "source": [
    "cols = []\n",
    "featured = full_drugs.iloc[:, full_drugs.columns != 'Amphet']\n",
    "for column in featured:\n",
    "    cols.append(column)\n",
    "label = 'Amphet'\n",
    "\n",
    "full_drugs['Amphet'] = full_drugs['Amphet'].map({'CL0': 0, \n",
    "                                            'CL1': 0, \n",
    "                                            'CL2': 1, \n",
    "                                            'CL3': 1, \n",
    "                                            'CL4': 1, \n",
    "                                            'CL5': 1,\n",
    "                                            'CL6': 1})\n",
    "X = full_drugs[cols]\n",
    "y = full_drugs[label]\n"
   ]
  },
  {
   "cell_type": "code",
   "execution_count": 40,
   "metadata": {},
   "outputs": [
    {
     "name": "stdout",
     "output_type": "stream",
     "text": [
      "Optimization terminated successfully.\n",
      "         Current function value: 0.534957\n",
      "         Iterations 6\n",
      "                         Results: Logit\n",
      "=================================================================\n",
      "Model:              Logit            Pseudo R-squared: 0.181     \n",
      "Dependent Variable: Amphet           AIC:              2038.7890 \n",
      "Date:               2022-12-12 14:24 BIC:              2099.7475 \n",
      "No. Observations:   1885             Log-Likelihood:   -1008.4   \n",
      "Df Model:           10               LL-Null:          -1231.9   \n",
      "Df Residuals:       1874             LLR p-value:      8.8638e-90\n",
      "Converged:          1.0000           Scale:            1.0000    \n",
      "No. Iterations:     6.0000                                       \n",
      "------------------------------------------------------------------\n",
      "               Coef.   Std.Err.     z     P>|z|    [0.025   0.975]\n",
      "------------------------------------------------------------------\n",
      "Age           -0.4509    0.0692  -6.5150  0.0000  -0.5865  -0.3152\n",
      "Gender        -0.6554    0.1214  -5.3994  0.0000  -0.8933  -0.4175\n",
      "Education     -0.1254    0.0624  -2.0110  0.0443  -0.2477  -0.0032\n",
      "Country       -0.6574    0.0853  -7.7065  0.0000  -0.8246  -0.4902\n",
      "Ethnicity      1.3382    0.1846   7.2502  0.0000   0.9765   1.7000\n",
      "Nscore         0.0926    0.0655   1.4143  0.1573  -0.0357   0.2209\n",
      "Escore         0.0357    0.0664   0.5379  0.5906  -0.0945   0.1659\n",
      "Oscore         0.1733    0.0633   2.7393  0.0062   0.0493   0.2974\n",
      "Ascore        -0.0017    0.0585  -0.0292  0.9767  -0.1164   0.1129\n",
      "Cscore        -0.1602    0.0655  -2.4456  0.0145  -0.2886  -0.0318\n",
      "Impulsive      0.2931    0.0670   4.3744  0.0000   0.1618   0.4245\n",
      "=================================================================\n",
      "\n"
     ]
    }
   ],
   "source": [
    "logit_model=sm.Logit(y,X)               # runs the model\n",
    "result=logit_model.fit()\n",
    "results_summary = result.summary2()\n",
    "\n",
    "print(results_summary)"
   ]
  },
  {
   "cell_type": "code",
   "execution_count": 41,
   "metadata": {},
   "outputs": [
    {
     "name": "stdout",
     "output_type": "stream",
     "text": [
      "{'Age': 7.266884157937942e-11, 'Gender': 6.687757332475731e-08, 'Education': 0.04432779272147315, 'Country': 1.2928650250907491e-14, 'Ethnicity': 4.1609051405561557e-13, 'Oscore': 0.006157688036376886, 'Cscore': 0.014459789549504942, 'Impulsive': 1.2177204749194008e-05}\n"
     ]
    }
   ],
   "source": [
    "p_values_tables = results_summary.tables[1]['P>|z|'].tolist()\n",
    "\n",
    "p_values = {}                   # dictionary of the p_values\n",
    "for i in range(0, len(p_values_tables)):\n",
    "    p_values[results_summary.tables[1]['P>|z|'].index[i]] = p_values_tables[i]\n",
    "    #p_values[i]# p_values_tables[i]\n",
    "\n",
    "p_values_tailored = {}          # dictionary of all p_values under 0.05, ie the ones that are statistically significant\n",
    "for i in range(0, len(p_values_tables)):\n",
    "    if(list(p_values.values())[i] < 0.05):\n",
    "        p_values_tailored[results_summary.tables[1]['P>|z|'].index[i]] = list(p_values.values())[i]\n",
    "print(p_values_tailored)"
   ]
  },
  {
   "cell_type": "code",
   "execution_count": 38,
   "metadata": {},
   "outputs": [],
   "source": [
    "def pruneDataset(dataset, selectedFeatures):\n",
    "    features = dataset.filter(regex='|'.join(selectedFeatures))\n",
    "    \n",
    "    return features\n",
    "\n",
    "newX = pruneDataset(featured, p_values_tailored.keys())\n"
   ]
  },
  {
   "cell_type": "code",
   "execution_count": 49,
   "metadata": {},
   "outputs": [
    {
     "name": "stdout",
     "output_type": "stream",
     "text": [
      "[[-0.5004056 ]\n",
      " [-0.59063108]\n",
      " [-0.13041466]\n",
      " [-0.57729726]\n",
      " [ 0.07707979]\n",
      " [ 0.21758204]\n",
      " [-0.1744897 ]\n",
      " [ 0.28543281]]\n",
      "-0.465774968058962\n"
     ]
    },
    {
     "data": {
      "image/png": "[encoded data removed]",
      "text/plain": [
       "<Figure size 432x288 with 1 Axes>"
      ]
     },
     "metadata": {
      "needs_background": "light"
     },
     "output_type": "display_data"
    },
    {
     "name": "stdout",
     "output_type": "stream",
     "text": [
      "Accuracy of logistic regression classifier on test set: 0.74\n",
      "              precision    recall  f1-score   support\n",
      "\n",
      "           0       0.78      0.84      0.81       251\n",
      "           1       0.63      0.52      0.57       126\n",
      "\n",
      "    accuracy                           0.74       377\n",
      "   macro avg       0.70      0.68      0.69       377\n",
      "weighted avg       0.73      0.74      0.73       377\n",
      "\n"
     ]
    }
   ],
   "source": [
    "# trains the model and produces the receiver operating characteristic (ROC) curve \n",
    "# returns classification report and accuracy\n",
    "def trainModel(X, y, test_size):\n",
    "    X_train, X_test, y_train, y_test = train_test_split(X, y, test_size=test_size, random_state=0)\n",
    "    lr = LogisticRegression()\n",
    "    lr.fit(X_train, y_train)\n",
    "\n",
    "    y_pred = lr.predict(X_test)\n",
    "    accuracy = 'Accuracy of logistic regression classifier on test set: {:.2f}'.format(lr.score(X_test, y_test))\n",
    "    classification = classification_report(y_test, y_pred)\n",
    "\n",
    "    b = lr.intercept_[0]\n",
    "    print(lr.coef_.T)\n",
    "    print(b)\n",
    "\n",
    "\n",
    "    logit_roc_auc = roc_auc_score(y_test, lr.predict(X_test))\n",
    "    fpr, tpr, thresholds = roc_curve(y_test, lr.predict_proba(X_test)[:,1])\n",
    "    plt.figure()\n",
    "    plt.plot(fpr, tpr, label='Logistic Regression (area = %0.2f)' % logit_roc_auc)\n",
    "    plt.plot([0, 1], [0, 1],'r--')\n",
    "    plt.xlim([0.0, 1.0])\n",
    "    plt.ylim([0.0, 1.05])\n",
    "    plt.xlabel('False Positive Rate')\n",
    "    plt.ylabel('True Positive Rate')\n",
    "    plt.title('Receiver operating characteristic')\n",
    "    plt.legend(loc=\"lower right\")\n",
    "    plt.savefig('Log_ROC')\n",
    "    plt.show()\n",
    "\n",
    "    return accuracy, classification\n",
    "modelResults = trainModel(newX, y, 0.2)\n",
    "\n",
    "print(modelResults[0])\n",
    "print(modelResults[1])"
   ]
  }
 ],
 "metadata": {
  "kernelspec": {
   "display_name": "Python 3.8.8 ('base')",
   "language": "python",
   "name": "python3"
  },
  "language_info": {
   "codemirror_mode": {
    "name": "ipython",
    "version": 3
   },
   "file_extension": ".py",
   "mimetype": "text/x-python",
   "name": "python",
   "nbconvert_exporter": "python",
   "pygments_lexer": "ipython3",
   "version": "3.8.8"
  },
  "orig_nbformat": 4,
  "vscode": {
   "interpreter": {
    "hash": "3343e3cce2d81aef72acc14e2613b8ef1337ef34e3b9ec67805125f10cb40331"
   }
  }
 },
 "nbformat": 4,
 "nbformat_minor": 2
}
