{
 "cells": [
  {
   "cell_type": "code",
   "execution_count": 8,
   "metadata": {},
   "outputs": [],
   "source": [
    "import sklearn as sk\n",
    "from sklearn.linear_model import LogisticRegression\n",
    "from sklearn.model_selection import train_test_split\n",
    "import matplotlib as plt\n",
    "import pandas as pd\n",
    "# jesse. jesse we have to train. "
   ]
  },
  {
   "cell_type": "code",
   "execution_count": 30,
   "metadata": {},
   "outputs": [],
   "source": [
    "def refactor(data, type):\n",
    "     if type == 'all':\n",
    "          features = data.filter(regex = 'score')\n",
    "     else:\n",
    "          features = data.filter(regex = type + 'score')\n",
    "     labels = data.filter(regex = 'Amphet')\n",
    "     \n",
    "     labels['Amphet'] = labels['Amphet'].map({'CL0': 0, \n",
    "                                            'CL1': 0, \n",
    "                                            'CL2': 1, \n",
    "                                            'CL3': 1, \n",
    "                                            'CL4': 1, \n",
    "                                            'CL5': 1,\n",
    "                                            'CL6': 1})\n",
    "\n",
    "     return features, labels"
   ]
  },
  {
   "cell_type": "code",
   "execution_count": 40,
   "metadata": {},
   "outputs": [],
   "source": [
    "raw_drugs = pd.read_csv(r'tailored_drug_dataset.csv')"
   ]
  },
  {
   "cell_type": "code",
   "execution_count": 41,
   "metadata": {},
   "outputs": [],
   "source": [
    "def trainModel(dataset, bigFive, test_size):\n",
    "    X, y = refactor(dataset, bigFive)\n",
    "    X_train, X_test, y_train, y_test = train_test_split(X, y, test_size = test_size)\n",
    "\n",
    "    lr = LogisticRegression()\n",
    "    lr.fit(X_train, y_train)\n",
    "    score_train = (lr.score(X_train, y_train))\n",
    "    score_test = (lr.score(X_test, y_test))\n",
    "\n",
    "    return score_train, score_test"
   ]
  },
  {
   "cell_type": "code",
   "execution_count": 47,
   "metadata": {},
   "outputs": [
    {
     "name": "stdout",
     "output_type": "stream",
     "text": [
      "(0.6584880636604774, 0.713527851458886)\n",
      "(0.6438992042440318, 0.6578249336870027)\n",
      "(0.6432360742705571, 0.6551724137931034)\n",
      "(0.639920424403183, 0.6392572944297082)\n",
      "(0.6432360742705571, 0.6445623342175066)\n",
      "(0.6412466843501327, 0.623342175066313)\n"
     ]
    },
    {
     "name": "stderr",
     "output_type": "stream",
     "text": [
      "/var/folders/gh/96n2f5tx5yv8ywqs48jsyz7m0000gn/T/ipykernel_43957/221857216.py:8: SettingWithCopyWarning: \n",
      "A value is trying to be set on a copy of a slice from a DataFrame.\n",
      "Try using .loc[row_indexer,col_indexer] = value instead\n",
      "\n",
      "See the caveats in the documentation: https://pandas.pydata.org/pandas-docs/stable/user_guide/indexing.html#returning-a-view-versus-a-copy\n",
      "  labels['Amphet'] = labels['Amphet'].map({'CL0': 0,\n",
      "/Users/karenli/opt/anaconda3/lib/python3.8/site-packages/sklearn/utils/validation.py:1111: DataConversionWarning: A column-vector y was passed when a 1d array was expected. Please change the shape of y to (n_samples, ), for example using ravel().\n",
      "  y = column_or_1d(y, warn=True)\n",
      "/var/folders/gh/96n2f5tx5yv8ywqs48jsyz7m0000gn/T/ipykernel_43957/221857216.py:8: SettingWithCopyWarning: \n",
      "A value is trying to be set on a copy of a slice from a DataFrame.\n",
      "Try using .loc[row_indexer,col_indexer] = value instead\n",
      "\n",
      "See the caveats in the documentation: https://pandas.pydata.org/pandas-docs/stable/user_guide/indexing.html#returning-a-view-versus-a-copy\n",
      "  labels['Amphet'] = labels['Amphet'].map({'CL0': 0,\n",
      "/Users/karenli/opt/anaconda3/lib/python3.8/site-packages/sklearn/utils/validation.py:1111: DataConversionWarning: A column-vector y was passed when a 1d array was expected. Please change the shape of y to (n_samples, ), for example using ravel().\n",
      "  y = column_or_1d(y, warn=True)\n",
      "/var/folders/gh/96n2f5tx5yv8ywqs48jsyz7m0000gn/T/ipykernel_43957/221857216.py:8: SettingWithCopyWarning: \n",
      "A value is trying to be set on a copy of a slice from a DataFrame.\n",
      "Try using .loc[row_indexer,col_indexer] = value instead\n",
      "\n",
      "See the caveats in the documentation: https://pandas.pydata.org/pandas-docs/stable/user_guide/indexing.html#returning-a-view-versus-a-copy\n",
      "  labels['Amphet'] = labels['Amphet'].map({'CL0': 0,\n",
      "/Users/karenli/opt/anaconda3/lib/python3.8/site-packages/sklearn/utils/validation.py:1111: DataConversionWarning: A column-vector y was passed when a 1d array was expected. Please change the shape of y to (n_samples, ), for example using ravel().\n",
      "  y = column_or_1d(y, warn=True)\n",
      "/var/folders/gh/96n2f5tx5yv8ywqs48jsyz7m0000gn/T/ipykernel_43957/221857216.py:8: SettingWithCopyWarning: \n",
      "A value is trying to be set on a copy of a slice from a DataFrame.\n",
      "Try using .loc[row_indexer,col_indexer] = value instead\n",
      "\n",
      "See the caveats in the documentation: https://pandas.pydata.org/pandas-docs/stable/user_guide/indexing.html#returning-a-view-versus-a-copy\n",
      "  labels['Amphet'] = labels['Amphet'].map({'CL0': 0,\n",
      "/Users/karenli/opt/anaconda3/lib/python3.8/site-packages/sklearn/utils/validation.py:1111: DataConversionWarning: A column-vector y was passed when a 1d array was expected. Please change the shape of y to (n_samples, ), for example using ravel().\n",
      "  y = column_or_1d(y, warn=True)\n",
      "/var/folders/gh/96n2f5tx5yv8ywqs48jsyz7m0000gn/T/ipykernel_43957/221857216.py:8: SettingWithCopyWarning: \n",
      "A value is trying to be set on a copy of a slice from a DataFrame.\n",
      "Try using .loc[row_indexer,col_indexer] = value instead\n",
      "\n",
      "See the caveats in the documentation: https://pandas.pydata.org/pandas-docs/stable/user_guide/indexing.html#returning-a-view-versus-a-copy\n",
      "  labels['Amphet'] = labels['Amphet'].map({'CL0': 0,\n",
      "/Users/karenli/opt/anaconda3/lib/python3.8/site-packages/sklearn/utils/validation.py:1111: DataConversionWarning: A column-vector y was passed when a 1d array was expected. Please change the shape of y to (n_samples, ), for example using ravel().\n",
      "  y = column_or_1d(y, warn=True)\n",
      "/var/folders/gh/96n2f5tx5yv8ywqs48jsyz7m0000gn/T/ipykernel_43957/221857216.py:8: SettingWithCopyWarning: \n",
      "A value is trying to be set on a copy of a slice from a DataFrame.\n",
      "Try using .loc[row_indexer,col_indexer] = value instead\n",
      "\n",
      "See the caveats in the documentation: https://pandas.pydata.org/pandas-docs/stable/user_guide/indexing.html#returning-a-view-versus-a-copy\n",
      "  labels['Amphet'] = labels['Amphet'].map({'CL0': 0,\n",
      "/Users/karenli/opt/anaconda3/lib/python3.8/site-packages/sklearn/utils/validation.py:1111: DataConversionWarning: A column-vector y was passed when a 1d array was expected. Please change the shape of y to (n_samples, ), for example using ravel().\n",
      "  y = column_or_1d(y, warn=True)\n"
     ]
    }
   ],
   "source": [
    "testing = ['all', 'O', 'C', 'E', 'A', 'N']\n",
    "for i in testing:\n",
    "    print(trainModel(raw_drugs, i, 0.2))\n"
   ]
  },
  {
   "cell_type": "code",
   "execution_count": null,
   "metadata": {},
   "outputs": [],
   "source": []
  }
 ],
 "metadata": {
  "kernelspec": {
   "display_name": "Python 3.8.8 ('base')",
   "language": "python",
   "name": "python3"
  },
  "language_info": {
   "codemirror_mode": {
    "name": "ipython",
    "version": 3
   },
   "file_extension": ".py",
   "mimetype": "text/x-python",
   "name": "python",
   "nbconvert_exporter": "python",
   "pygments_lexer": "ipython3",
   "version": "3.8.8"
  },
  "orig_nbformat": 4,
  "vscode": {
   "interpreter": {
    "hash": "3343e3cce2d81aef72acc14e2613b8ef1337ef34e3b9ec67805125f10cb40331"
   }
  }
 },
 "nbformat": 4,
 "nbformat_minor": 2
}
