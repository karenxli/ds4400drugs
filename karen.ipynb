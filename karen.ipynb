{
 "cells": [
  {
   "cell_type": "code",
   "execution_count": 24,
   "metadata": {},
   "outputs": [],
   "source": [
    "#Imports\n",
    "\n",
    "import sklearn as sk\n",
    "from sklearn.linear_model import LogisticRegression\n",
    "from sklearn.model_selection import train_test_split\n",
    "import matplotlib as plt\n",
    "import pandas as pd\n",
    "from sklearn.metrics import classification_report\n",
    "# jesse. jesse we have to train. "
   ]
  },
  {
   "cell_type": "code",
   "execution_count": 25,
   "metadata": {},
   "outputs": [],
   "source": [
    "# Converts the OCEAN dataset into features and labels\n",
    "# Converts the labels provided by UCI Machine Learning to 0 if the person has never touched the drug or not used it in the last 10 years\n",
    "# and 1 otherwise, for binary classification\n",
    "# Allows users to query the whole OCEAN feature set, or a specific feature\n",
    "def refactor(data, type):\n",
    "     if type == 'ocean':\n",
    "          features = data.filter(regex = 'score')\n",
    "     else:\n",
    "          features = data.filter(regex = type + 'score')\n",
    "     labels = data.filter(regex = 'Amphet')\n",
    "     \n",
    "     labels['Amphet'] = labels['Amphet'].map({'CL0': 0, \n",
    "                                            'CL1': 0, \n",
    "                                            'CL2': 1, \n",
    "                                            'CL3': 1, \n",
    "                                            'CL4': 1, \n",
    "                                            'CL5': 1,\n",
    "                                            'CL6': 1})\n",
    "\n",
    "     return features, labels"
   ]
  },
  {
   "cell_type": "code",
   "execution_count": 29,
   "metadata": {},
   "outputs": [],
   "source": [
    "# Imports the two datasets\n",
    "ocean_drugs = pd.read_csv(r'tailored_drug_dataset.csv')\n",
    "full_drugs = pd.read_csv(r'full_drug_dataset.csv')"
   ]
  },
  {
   "cell_type": "code",
   "execution_count": 66,
   "metadata": {},
   "outputs": [],
   "source": [
    "# Creates and trains the logistic regression model for the OCEAN dataset\n",
    "# Returns the classification matrix, training and testing accuracy\n",
    "def trainModel(dataset, bigFive, test_size):\n",
    "    X, y = refactor(dataset, bigFive)           # preprocessing\n",
    "\n",
    "    X_train, X_test, y_train, y_test = train_test_split(X, y, test_size = test_size)            # splits into training and testing sets based on a hyperparameter\n",
    "\n",
    "    lr = LogisticRegression()       # model\n",
    "    lr.fit(X_train, y_train)        # fits the model\n",
    "    y_pred = lr.predict(X_test)\n",
    "    \n",
    "    score_train = (lr.score(X_train, y_train))      # accuracy scores for training and testing\n",
    "    score_test = (lr.score(X_test, y_test))\n",
    "\n",
    "    return classification_report(y_test, y_pred), score_train, score_test\n",
    "    # return score_train, score_test"
   ]
  },
  {
   "cell_type": "code",
   "execution_count": null,
   "metadata": {},
   "outputs": [],
   "source": [
    "testing = ['O', 'C', 'E', 'A', 'N']\n",
    "# testing = ['all']\n",
    "train_results = {}\n",
    "test_results = {}\n",
    "\n",
    "# iterates through the 5 Big Five features and adds their accuracies to two dictionaries\n",
    "for i in testing:\n",
    "    results = trainModel(ocean_drugs, i, 0.2)\n",
    "    train_results[i] = results[1]\n",
    "    test_results[i] = results[2]\n",
    "    #print(results[0])      # classification matrix"
   ]
  },
  {
   "cell_type": "code",
   "execution_count": 82,
   "metadata": {},
   "outputs": [
    {
     "name": "stdout",
     "output_type": "stream",
     "text": [
      "The best feature of the OCEAN big five for the training set is C_score with an accuracy of 0.6518567639257294\n",
      "The best feature of the OCEAN big five for the testing set is N_score with an accuracy of 0.6525198938992043\n"
     ]
    }
   ],
   "source": [
    "# Calculates the best feature for the training and testing set, returns its accuracy\n",
    "def findMaximum(results_List):\n",
    "    max_test = max(list(results_List.values()))     \n",
    "    max_index = list(results_List.values()).index(max_test)\n",
    "\n",
    "    max_col = list(results_List.keys())[max_index]\n",
    "    return (max_col + '_score', max_test)\n",
    "\n",
    "training_Max = findMaximum(train_results)\n",
    "testing_Max = findMaximum(test_results)\n",
    "print(\"The best feature of the OCEAN big five for the training set is \" + training_Max[0] + \" with an accuracy of \" + str(training_Max[1]))\n",
    "print(\"The best feature of the OCEAN big five for the testing set is \" + testing_Max[0] + \" with an accuracy of \" + str(testing_Max[1]))"
   ]
  },
  {
   "cell_type": "code",
   "execution_count": 49,
   "metadata": {},
   "outputs": [],
   "source": [
    "def cycle_all(data, name):\n",
    "    features = data.filter(regex = name)\n",
    "    labels = data.filter(regex = 'Amphet')\n",
    "     \n",
    "    labels['Amphet'] = labels['Amphet'].map({'CL0': 0, \n",
    "                                            'CL1': 0, \n",
    "                                            'CL2': 1, \n",
    "                                            'CL3': 1, \n",
    "                                            'CL4': 1, \n",
    "                                            'CL5': 1,\n",
    "                                            'CL6': 1})\n",
    "    return features, labels\n",
    "   "
   ]
  },
  {
   "cell_type": "code",
   "execution_count": 58,
   "metadata": {},
   "outputs": [],
   "source": [
    "def trainFullModel(X, y, test_size):\n",
    "    X_train, X_test, y_train, y_test = train_test_split(X, y, test_size = test_size)\n",
    "\n",
    "    lr = LogisticRegression()\n",
    "    lr.fit(X_train, y_train)\n",
    "    y_pred = lr.predict(X_test)\n",
    "    \n",
    "    #score_train = (lr.score(X_train, y_train))\n",
    "    #score_test = (lr.score(X_test, y_test))\n",
    "\n",
    "    return classification_report(y_test, y_pred)\n",
    "    # return score_train, score_test"
   ]
  },
  {
   "cell_type": "code",
   "execution_count": null,
   "metadata": {},
   "outputs": [],
   "source": [
    "featured = full_drugs.iloc[:, full_drugs.columns != 'Amphet']\n",
    "\n",
    "for column in featured:\n",
    "    features, labels = cycle_all(full_drugs, column)\n",
    "    #features = crimped.filter(regex = column)\n",
    "    print(trainFullModel(features, labels, 0.2))\n"
   ]
  },
  {
   "cell_type": "code",
   "execution_count": 61,
   "metadata": {},
   "outputs": [
    {
     "name": "stdout",
     "output_type": "stream",
     "text": [
      "              precision    recall  f1-score   support\n",
      "\n",
      "           0       0.75      0.85      0.80       240\n",
      "           1       0.65      0.51      0.57       137\n",
      "\n",
      "    accuracy                           0.72       377\n",
      "   macro avg       0.70      0.68      0.68       377\n",
      "weighted avg       0.72      0.72      0.72       377\n",
      "\n"
     ]
    },
    {
     "name": "stderr",
     "output_type": "stream",
     "text": [
      "/var/folders/gh/96n2f5tx5yv8ywqs48jsyz7m0000gn/T/ipykernel_814/2628955122.py:5: SettingWithCopyWarning: \n",
      "A value is trying to be set on a copy of a slice from a DataFrame.\n",
      "Try using .loc[row_indexer,col_indexer] = value instead\n",
      "\n",
      "See the caveats in the documentation: https://pandas.pydata.org/pandas-docs/stable/user_guide/indexing.html#returning-a-view-versus-a-copy\n",
      "  labels['Amphet'] = labels['Amphet'].map({'CL0': 0,\n",
      "/Users/karenli/opt/anaconda3/lib/python3.8/site-packages/sklearn/utils/validation.py:1111: DataConversionWarning: A column-vector y was passed when a 1d array was expected. Please change the shape of y to (n_samples, ), for example using ravel().\n",
      "  y = column_or_1d(y, warn=True)\n"
     ]
    }
   ],
   "source": [
    "features, labels = cycle_all(full_drugs, \"O_score\")\n",
    "print(trainFullModel(featured, labels, 0.2))"
   ]
  }
 ],
 "metadata": {
  "kernelspec": {
   "display_name": "Python 3.8.8 ('base')",
   "language": "python",
   "name": "python3"
  },
  "language_info": {
   "codemirror_mode": {
    "name": "ipython",
    "version": 3
   },
   "file_extension": ".py",
   "mimetype": "text/x-python",
   "name": "python",
   "nbconvert_exporter": "python",
   "pygments_lexer": "ipython3",
   "version": "3.8.8"
  },
  "orig_nbformat": 4,
  "vscode": {
   "interpreter": {
    "hash": "3343e3cce2d81aef72acc14e2613b8ef1337ef34e3b9ec67805125f10cb40331"
   }
  }
 },
 "nbformat": 4,
 "nbformat_minor": 2
}
