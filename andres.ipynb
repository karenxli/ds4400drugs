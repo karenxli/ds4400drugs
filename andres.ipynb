{
 "cells": [
  {
   "cell_type": "code",
   "execution_count": null,
   "metadata": {},
   "outputs": [],
   "source": [
    "%conda install scikit-learn \n",
    "\n"
   ]
  },
  {
   "cell_type": "code",
   "execution_count": null,
   "metadata": {},
   "outputs": [],
   "source": [
    "%conda update -n base -c defaults conda"
   ]
  },
  {
   "cell_type": "code",
   "execution_count": 1,
   "metadata": {},
   "outputs": [],
   "source": [
    "import pandas as pd\n",
    "import numpy as np\n",
    "from sklearn.model_selection import train_test_split\n",
    "from torch.utils.data import Dataset, DataLoader\n",
    "import torch\n",
    "from torch import nn\n",
    "import matplotlib.pyplot as plt"
   ]
  },
  {
   "cell_type": "code",
   "execution_count": 2,
   "metadata": {},
   "outputs": [
    {
     "name": "stdout",
     "output_type": "stream",
     "text": [
      "Using cpu device\n"
     ]
    }
   ],
   "source": [
    "device = \"cuda\" if torch.cuda.is_available() else \"cpu\"\n",
    "print(f\"Using {device} device\")"
   ]
  },
  {
   "cell_type": "code",
   "execution_count": 2,
   "metadata": {},
   "outputs": [],
   "source": [
    "class dataset(Dataset):\n",
    "\n",
    "    def __init__(self, x, y):\n",
    "        self.x = torch.tensor(x, dtype=torch.float32)\n",
    "        self.y= torch.tensor(y, dtype=torch.float32)\n",
    "        self.length = self.x.shape[0]\n",
    "\n",
    "    def __getitem__(self, idx):\n",
    "        return self.x[idx], self.y[idx]\n",
    "\n",
    "\n",
    "    def __len__(self):\n",
    "        return self.length\n"
   ]
  },
  {
   "cell_type": "code",
   "execution_count": 3,
   "metadata": {},
   "outputs": [],
   "source": [
    "drugs = pd.read_excel(\"drug_dataset.xlsx\")"
   ]
  },
  {
   "cell_type": "code",
   "execution_count": 5,
   "metadata": {},
   "outputs": [
    {
     "data": {
      "text/plain": [
       "Index(['Unnamed: 0', 'Age', 'Gender', 'Education', 'Country', 'Ethnicity',\n",
       "       'Nscore', 'Escore', 'Oscore', 'Ascore', 'Cscore', 'Impulsive', 'SS',\n",
       "       'Alcohol', 'Amphet', 'Unnamed: 15', 'Amyl', 'Benzos', 'Caff',\n",
       "       'Cannabis', 'Choc', 'Coke', 'Crack', 'Ecstasy', 'Heroin', 'Ketamine',\n",
       "       'LSD', 'Meth', 'Shrooms', 'Nicotine', 'Semer', 'VSA'],\n",
       "      dtype='object')"
      ]
     },
     "execution_count": 5,
     "metadata": {},
     "output_type": "execute_result"
    }
   ],
   "source": [
    "drugs.columns"
   ]
  },
  {
   "cell_type": "code",
   "execution_count": 6,
   "metadata": {},
   "outputs": [
    {
     "data": {
      "text/plain": [
       "Index(['Alcohol', 'Amphet', 'Unnamed: 15', 'Amyl', 'Benzos', 'Caff',\n",
       "       'Cannabis', 'Choc', 'Coke', 'Crack', 'Ecstasy', 'Heroin', 'Ketamine',\n",
       "       'LSD', 'Meth', 'Shrooms', 'Nicotine', 'Semer', 'VSA'],\n",
       "      dtype='object')"
      ]
     },
     "execution_count": 6,
     "metadata": {},
     "output_type": "execute_result"
    }
   ],
   "source": [
    "types = drugs.columns[13:]\n",
    "\n",
    "types"
   ]
  },
  {
   "cell_type": "code",
   "execution_count": 32,
   "metadata": {},
   "outputs": [],
   "source": [
    "def create_sub(df, drug):\n",
    "    cols = [\"Age\", \"Gender\",\"Nscore\", \"Oscore\", \"Impulsive\", drug]\n",
    "    subset = df[cols]\n",
    "    drug_use = subset[drug]\n",
    "\n",
    "    non_user = [\"CL0\", \"01\"]\n",
    "    user = [\"CL\" + str(i) for i in range(2, 7)]\n",
    "    class_ = [0, 1]\n",
    "\n",
    "    consum_conditions = [(drug_use.isin(non_user)), (drug_use.isin(user))]\n",
    "\n",
    "    subset[drug] = np.select(consum_conditions, class_)\n",
    "\n",
    "    return subset\n",
    "\n"
   ]
  },
  {
   "cell_type": "code",
   "execution_count": 39,
   "metadata": {},
   "outputs": [
    {
     "name": "stderr",
     "output_type": "stream",
     "text": [
      "/var/folders/5w/zg23p5bd3bnc86d75_pkn99m0000gn/T/ipykernel_74840/3821417972.py:12: SettingWithCopyWarning: \n",
      "A value is trying to be set on a copy of a slice from a DataFrame.\n",
      "Try using .loc[row_indexer,col_indexer] = value instead\n",
      "\n",
      "See the caveats in the documentation: https://pandas.pydata.org/pandas-docs/stable/user_guide/indexing.html#returning-a-view-versus-a-copy\n",
      "  subset[drug] = np.select(consum_conditions, class_)\n"
     ]
    }
   ],
   "source": [
    "# splitting data into training and testing set\n",
    "def split_data(df, test_size=0.2):\n",
    "\n",
    "    X = df.iloc[:,:-1]\n",
    "    y = df.iloc[:, -1:]\n",
    "\n",
    "    x_train, x_test, y_train, y_test = train_test_split(X, y, test_size=test_size, random_state=0)\n",
    "\n",
    "    data = [x_train, y_train, x_test, y_test]\n",
    "    data = list(map(lambda df: df.to_numpy(), data))\n",
    "\n",
    "    x_train, y_train, x_test, y_test = data\n",
    "\n",
    "    trainset = dataset(x_train, y_train)\n",
    "    testset = dataset(x_test, y_test)\n",
    "\n",
    "\n",
    "    trainloader = DataLoader(trainset, batch_size=32, shuffle=True)\n",
    "    testloader = DataLoader(testset, batch_size=32, shuffle=False)\n",
    "\n",
    "    \n",
    "\n",
    "    return trainloader, testloader\n",
    "\n",
    "\n",
    "drug_sub = create_sub(drugs, \"Heroin\")\n",
    "\n",
    "X = drug_sub.iloc[:,:-1].to_numpy()\n",
    "\n",
    "y = drug_sub.iloc[:, -1:].to_numpy()\n",
    "\n",
    "\n",
    "trainloader, testloader = split_data(drug_sub)\n",
    "\n",
    "\n"
   ]
  },
  {
   "cell_type": "code",
   "execution_count": 34,
   "metadata": {},
   "outputs": [],
   "source": [
    "class Net(nn.Module):\n",
    "\n",
    "    def __init__(self, input_shape) -> None:\n",
    "        super(Net, self).__init__()\n",
    "\n",
    "        self.fc1 = nn.Linear(input_shape, 3)\n",
    "        nn.init.kaiming_uniform_(self.fc1.weight, nonlinearity='relu')\n",
    "        self.fc2 = nn.Linear(3, 3)\n",
    "        nn.init.kaiming_uniform_(self.fc2.weight, nonlinearity='relu')\n",
    "        self.fc3 = nn.Linear(3, 1)\n",
    "        nn.init.xavier_uniform_(self.fc3.weight)\n",
    "\n",
    "\n",
    "        self.relu = nn.ReLU()\n",
    "        self.sigmoid = nn.Sigmoid()        \n",
    "\n",
    "    \n",
    "    def forward(self, x):\n",
    "\n",
    "        x = self.relu(self.fc1(x))\n",
    "        x = self.relu(self.fc2(x))\n",
    "        x = self.sigmoid(self.fc3(x))\n",
    "\n",
    "\n",
    "        return x\n",
    "\n",
    "\n",
    "\n",
    "        \n",
    "\n",
    "learning_rate = 0.01\n",
    "epochs = 750\n",
    "\n",
    "model = Net(input_shape=X.shape[1])\n",
    "optimizer = torch.optim.SGD(model.parameters(), lr=learning_rate)\n",
    "\n",
    "criterion = nn.BCELoss() # Binary cross entropy loss - standard loss function for binary classification\n",
    "\n",
    "\n",
    "\n",
    "\n",
    "    "
   ]
  },
  {
   "cell_type": "code",
   "execution_count": 40,
   "metadata": {},
   "outputs": [
    {
     "name": "stdout",
     "output_type": "stream",
     "text": [
      "epoch 0\tloss : 0.5803191065788269\t accuracy : 0.775971124823224\n",
      "epoch 50\tloss : 0.10342476516962051\t accuracy : 0.8143236074270557\n",
      "epoch 100\tloss : 0.2587529122829437\t accuracy : 0.8143236074270557\n",
      "epoch 150\tloss : 0.13608418405056\t accuracy : 0.8143236074270557\n",
      "epoch 200\tloss : 0.19173260033130646\t accuracy : 0.8143236074270557\n",
      "epoch 250\tloss : 0.5715690851211548\t accuracy : 0.8143236074270557\n",
      "epoch 300\tloss : 0.5799170136451721\t accuracy : 0.8143236074270557\n",
      "epoch 350\tloss : 0.2210564911365509\t accuracy : 0.8143236074270557\n",
      "epoch 400\tloss : 0.4526647925376892\t accuracy : 0.8143236074270557\n",
      "epoch 450\tloss : 0.780820369720459\t accuracy : 0.8143236074270557\n",
      "epoch 500\tloss : 0.2113761603832245\t accuracy : 0.8143236074270557\n",
      "epoch 550\tloss : 0.3804364502429962\t accuracy : 0.8143236074270557\n",
      "epoch 600\tloss : 0.20747166872024536\t accuracy : 0.8143236074270557\n",
      "epoch 650\tloss : 0.15111172199249268\t accuracy : 0.8143236074270557\n",
      "epoch 700\tloss : 0.17216342687606812\t accuracy : 0.8143236074270557\n"
     ]
    }
   ],
   "source": [
    "losses = []\n",
    "accur = []\n",
    "\n",
    "\n",
    "for i in range(epochs):\n",
    "    for j, (x_train, y_train) in enumerate(trainloader):\n",
    "        \n",
    "\n",
    "        output = model(x_train)\n",
    "\n",
    "        loss = criterion(output, y_train.reshape(-1, 1))\n",
    "\n",
    "        predicted = model(torch.tensor(X, dtype=torch.float32))\n",
    "        acc = (predicted.reshape(-1).detach().numpy().round() == y).mean()\n",
    "\n",
    "        #back propagation\n",
    "        optimizer.zero_grad()\n",
    "        loss.backward()\n",
    "        optimizer.step()\n",
    "\n",
    "\n",
    "\n",
    "    if i % 50 == 0:\n",
    "        correct = 0\n",
    "        total = 0\n",
    "\n",
    "        losses.append(loss.item())\n",
    "        accur.append(acc)\n",
    "\n",
    "        print(\"epoch {}\\tloss : {}\\t accuracy : {}\".format(i,loss,acc))\n",
    "\n"
   ]
  },
  {
   "cell_type": "code",
   "execution_count": 36,
   "metadata": {},
   "outputs": [
    {
     "name": "stdout",
     "output_type": "stream",
     "text": [
      "Testing loss: 1.1393253008524578\n",
      "Correct Predictions: 25/ 32\n",
      "Testing loss: 1.9660023053487141\n",
      "Correct Predictions: 51/ 64\n",
      "Testing loss: 2.8137614727020264\n",
      "Correct Predictions: 76/ 96\n",
      "Testing loss: 3.9760704040527344\n",
      "Correct Predictions: 100/ 128\n",
      "Testing loss: 5.2561421394348145\n",
      "Correct Predictions: 127/ 160\n",
      "Testing loss: 6.348636786142985\n",
      "Correct Predictions: 153/ 192\n",
      "Testing loss: 7.544979651769002\n",
      "Correct Predictions: 179/ 224\n",
      "Testing loss: 8.963742653528849\n",
      "Correct Predictions: 203/ 256\n",
      "Testing loss: 10.241230646769205\n",
      "Correct Predictions: 227/ 288\n",
      "Testing loss: 11.410006682078043\n",
      "Correct Predictions: 254/ 320\n",
      "Testing loss: 12.615532716115316\n",
      "Correct Predictions: 279/ 352\n",
      "Testing loss: 13.39677948753039\n",
      "Correct Predictions: 298/ 377\n"
     ]
    }
   ],
   "source": [
    "#testing \n",
    "\n",
    "test_loss = 0\n",
    "correct, total = 0,0\n",
    "\n",
    "for data, label in testloader:\n",
    "\n",
    "    output = model(data)\n",
    "    for o,l in zip(torch.argmax(output, axis=1), label):\n",
    "        if o == l:\n",
    "            correct += 1\n",
    "        \n",
    "        total += 1\n",
    "\n",
    "\n",
    "    loss = criterion(output, label)\n",
    "    test_loss += loss.item() * data.size(0)\n",
    "\n",
    "    print(f\"Testing loss: {test_loss/len(testloader)}\")\n",
    "    print(f\"Correct Predictions: {correct}/ {total}\")\n",
    "\n",
    "\n"
   ]
  },
  {
   "cell_type": "code",
   "execution_count": 37,
   "metadata": {},
   "outputs": [
    {
     "data": {
      "text/plain": [
       "Text(0, 0.5, 'loss')"
      ]
     },
     "execution_count": 37,
     "metadata": {},
     "output_type": "execute_result"
    },
    {
     "data": {
      "image/png": "[encoded data removed]",
      "text/plain": [
       "<Figure size 432x288 with 1 Axes>"
      ]
     },
     "metadata": {
      "needs_background": "light"
     },
     "output_type": "display_data"
    }
   ],
   "source": [
    "plt.plot(losses)\n",
    "plt.title('Loss vs Epochs')\n",
    "plt.xlabel('Epochs')\n",
    "plt.ylabel('loss')"
   ]
  },
  {
   "cell_type": "code",
   "execution_count": 38,
   "metadata": {},
   "outputs": [
    {
     "data": {
      "text/plain": [
       "Text(0, 0.5, 'Accuracy')"
      ]
     },
     "execution_count": 38,
     "metadata": {},
     "output_type": "execute_result"
    },
    {
     "data": {
      "image/png": "[encoded data removed]",
      "text/plain": [
       "<Figure size 432x288 with 1 Axes>"
      ]
     },
     "metadata": {
      "needs_background": "light"
     },
     "output_type": "display_data"
    }
   ],
   "source": [
    "#printing the accuracy\n",
    "plt.plot(accur)\n",
    "plt.title('Accuracy vs Epochs')\n",
    "plt.xlabel('Epoch')\n",
    "plt.ylabel('Accuracy')"
   ]
  }
 ],
 "metadata": {
  "kernelspec": {
   "display_name": "Python 3.10.0 ('class')",
   "language": "python",
   "name": "python3"
  },
  "language_info": {
   "codemirror_mode": {
    "name": "ipython",
    "version": 3
   },
   "file_extension": ".py",
   "mimetype": "text/x-python",
   "name": "python",
   "nbconvert_exporter": "python",
   "pygments_lexer": "ipython3",
   "version": "3.10.0"
  },
  "orig_nbformat": 4,
  "vscode": {
   "interpreter": {
    "hash": "c5cf7733ffd834267ee6bb11cf8daf614500ca62623438a558582de4c9d0c6ad"
   }
  }
 },
 "nbformat": 4,
 "nbformat_minor": 2
}
